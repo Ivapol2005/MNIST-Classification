{
 "cells": [
  {
   "cell_type": "code",
   "execution_count": 120,
   "id": "e0528605",
   "metadata": {},
   "outputs": [],
   "source": [
    "from abc import ABC, abstractmethod\n",
    "\n",
    "class MnistClassifierInterface(ABC):\n",
    "    @abstractmethod\n",
    "    def train(self, X, y):\n",
    "        # method for training\n",
    "        pass\n",
    "\n",
    "    @abstractmethod\n",
    "    def predict(self, X):\n",
    "        # method for prediction\n",
    "        pass"
   ]
  },
  {
   "cell_type": "code",
   "execution_count": 121,
   "id": "c97f1262",
   "metadata": {},
   "outputs": [],
   "source": [
    "# from .MnistClassifierInterface import MnistClassifierInterface\n",
    "\n",
    "from sklearn.ensemble import RandomForestClassifier\n",
    "import numpy as np\n",
    "\n",
    "class RandomForestMnistClassifier(MnistClassifierInterface):\n",
    "    def __init__(self):\n",
    "        self.model = RandomForestClassifier(n_estimators=100, random_state=42, n_jobs=-1)\n",
    "\n",
    "    def train(self, X, y):\n",
    "        X = X.reshape(X.shape[0], -1)\n",
    "        self.model.fit(X, y)\n",
    "\n",
    "    def predict(self, X_test):\n",
    "        X_test = X_test.reshape(X_test.shape[0], -1)\n",
    "        return self.model.predict(X_test)\n"
   ]
  },
  {
   "cell_type": "code",
   "execution_count": 122,
   "id": "0de28b1b",
   "metadata": {},
   "outputs": [],
   "source": [
    "# from .MnistClassifierInterface import MnistClassifierInterface\n",
    "\n",
    "import tensorflow as tf\n",
    "# from tensorflow.keras.datasets import mnist\n",
    "\n",
    "from tensorflow.keras.models import Sequential\n",
    "from tensorflow.keras.layers import Dense, Flatten\n",
    "from tensorflow.keras.utils import to_categorical\n",
    "\n",
    "import numpy as np\n",
    "\n",
    "class FeedForwardNNClassifier(MnistClassifierInterface):\n",
    "    def __init__(self):\n",
    "        self.model = Sequential([\n",
    "            Flatten(input_shape=(28, 28)),\n",
    "            Dense(128, activation='relu'),\n",
    "            Dense(10, activation='softmax')\n",
    "        ])\n",
    "        \n",
    "    def train(self, X, y):\n",
    "        X = X.reshape(-1, 28, 28, 1).astype('float32') # / 255.0\n",
    "        y = to_categorical(y, 10)\n",
    "        \n",
    "        self.model.compile(optimizer='adam', loss='categorical_crossentropy', metrics=['accuracy'])\n",
    "        self.model.fit(X, y, epochs=10, batch_size=32, validation_split=0.1)\n",
    "        \n",
    "    def predict(self, X_test):\n",
    "        X_test = X_test.reshape(-1, 28, 28, 1).astype('float32') # / 255.0\n",
    "        predictions = self.model.predict(X_test)\n",
    "        return np.argmax(predictions, axis=-1)\n"
   ]
  },
  {
   "cell_type": "code",
   "execution_count": 123,
   "id": "29e0f197",
   "metadata": {},
   "outputs": [],
   "source": [
    "# from .MnistClassifierInterface import MnistClassifierInterface\n",
    "\n",
    "import tensorflow as tf\n",
    "# from tensorflow.keras.datasets import mnist\n",
    "\n",
    "from tensorflow.keras.models import Sequential\n",
    "from tensorflow.keras.layers import Conv2D, MaxPooling2D, Flatten, Dense\n",
    "from tensorflow.keras.utils import to_categorical\n",
    "\n",
    "import numpy as np\n",
    "\n",
    "class ConvolutionalNNClassifier(MnistClassifierInterface):\n",
    "    def __init__(self):\n",
    "        self.model = tf.keras.models.Sequential([\n",
    "            Conv2D(32, kernel_size=(3,3), input_shape=(28,28,1), activation='relu'),\n",
    "            MaxPooling2D(pool_size=(2,2)),\n",
    "\n",
    "            Conv2D(64, kernel_size=(3,3), activation='relu'),\n",
    "            MaxPooling2D(pool_size=(2,2)),\n",
    "\n",
    "            Flatten(),\n",
    "            Dense(128),\n",
    "            Dense(10, activation='softmax')\n",
    "        ])\n",
    "        \n",
    "    def train(self, X, y):\n",
    "        X = X.reshape(-1, 28, 28, 1).astype('float32') # / 255.0\n",
    "        y = to_categorical(y, 10)\n",
    "        \n",
    "        self.model.compile(optimizer='Adam', loss='categorical_crossentropy', metrics=['accuracy'])\n",
    "        self.model.fit(X, y, epochs=10)\n",
    "        \n",
    "    def predict(self, X_test):\n",
    "        X_test = X_test.reshape(-1, 28, 28, 1).astype('float32') # / 255.0\n",
    "        predictions = self.model.predict(X_test)\n",
    "        return np.argmax(predictions, axis=-1)\n"
   ]
  },
  {
   "cell_type": "code",
   "execution_count": 124,
   "id": "bdfe54a6",
   "metadata": {},
   "outputs": [],
   "source": [
    "class MnistClassifier:\n",
    "    def __init__(self, algorithm=\"rf\"):\n",
    "        # makes model depending on algorithm\n",
    "        if algorithm == \"rf\":\n",
    "            self.classifier = RandomForestMnistClassifier()\n",
    "        elif algorithm == \"nn\":\n",
    "            self.classifier = FeedForwardNNClassifier()\n",
    "        elif algorithm == \"cnn\":\n",
    "            self.classifier = ConvolutionalNNClassifier()\n",
    "        else:\n",
    "            raise ValueError(\n",
    "                \"Possible algorithms:\\n\"\n",
    "                \"'rf' - Random Forest\\n\"\n",
    "                \"'nn' - Feed Forward Neural Network\\n\"\n",
    "                \"'cnn' - Convolutional Neural Network\"\n",
    "            )\n",
    "    def train(self, X, y):\n",
    "        self.classifier.train(X, y)\n",
    "\n",
    "    def predict(self, X_test):\n",
    "        predictions = self.classifier.predict(X_test)\n",
    "        return predictions"
   ]
  },
  {
   "cell_type": "code",
   "execution_count": 125,
   "id": "dd24cae2",
   "metadata": {},
   "outputs": [
    {
     "name": "stdout",
     "output_type": "stream",
     "text": [
      "Epoch 1/10\n"
     ]
    },
    {
     "name": "stderr",
     "output_type": "stream",
     "text": [
      "2025-02-20 22:55:55.337279: I tensorflow/core/common_runtime/gpu_fusion_pass.cc:508] ROCm Fusion is enabled.\n",
      "2025-02-20 22:55:55.376108: I tensorflow/core/common_runtime/gpu_fusion_pass.cc:508] ROCm Fusion is enabled.\n",
      "2025-02-20 22:55:55.390847: I tensorflow/core/common_runtime/gpu_fusion_pass.cc:508] ROCm Fusion is enabled.\n",
      "2025-02-20 22:55:55.413435: I tensorflow/core/common_runtime/gpu_fusion_pass.cc:508] ROCm Fusion is enabled.\n",
      "2025-02-20 22:55:55.422273: I tensorflow/core/common_runtime/gpu_fusion_pass.cc:508] ROCm Fusion is enabled.\n",
      "2025-02-20 22:55:55.426367: I tensorflow/core/common_runtime/gpu_fusion_pass.cc:508] ROCm Fusion is enabled.\n"
     ]
    },
    {
     "name": "stdout",
     "output_type": "stream",
     "text": [
      "  55/1688 [..............................] - ETA: 4s - loss: 1.1284 - accuracy: 0.6852"
     ]
    },
    {
     "name": "stderr",
     "output_type": "stream",
     "text": [
      "2025-02-20 22:55:55.900091: I tensorflow/core/common_runtime/gpu_fusion_pass.cc:508] ROCm Fusion is enabled.\n"
     ]
    },
    {
     "name": "stdout",
     "output_type": "stream",
     "text": [
      "1683/1688 [============================>.] - ETA: 0s - loss: 0.2726 - accuracy: 0.9216"
     ]
    },
    {
     "name": "stderr",
     "output_type": "stream",
     "text": [
      "2025-02-20 22:55:59.754070: I tensorflow/core/common_runtime/gpu_fusion_pass.cc:508] ROCm Fusion is enabled.\n",
      "2025-02-20 22:55:59.766598: I tensorflow/core/common_runtime/gpu_fusion_pass.cc:508] ROCm Fusion is enabled.\n",
      "2025-02-20 22:55:59.775918: I tensorflow/core/common_runtime/gpu_fusion_pass.cc:508] ROCm Fusion is enabled.\n",
      "2025-02-20 22:55:59.782170: I tensorflow/core/common_runtime/gpu_fusion_pass.cc:508] ROCm Fusion is enabled.\n",
      "2025-02-20 22:55:59.787707: I tensorflow/core/common_runtime/gpu_fusion_pass.cc:508] ROCm Fusion is enabled.\n",
      "2025-02-20 22:55:59.791423: I tensorflow/core/common_runtime/gpu_fusion_pass.cc:508] ROCm Fusion is enabled.\n",
      "2025-02-20 22:55:59.875217: I tensorflow/core/common_runtime/gpu_fusion_pass.cc:508] ROCm Fusion is enabled.\n"
     ]
    },
    {
     "name": "stdout",
     "output_type": "stream",
     "text": [
      "1688/1688 [==============================] - 5s 2ms/step - loss: 0.2722 - accuracy: 0.9217 - val_loss: 0.1325 - val_accuracy: 0.9627\n",
      "Epoch 2/10\n",
      "1688/1688 [==============================] - 4s 2ms/step - loss: 0.1221 - accuracy: 0.9644 - val_loss: 0.0996 - val_accuracy: 0.9728\n"
     ]
    },
    {
     "name": "stderr",
     "output_type": "stream",
     "text": [
      "2025-02-20 22:56:03.811881: I tensorflow/core/common_runtime/gpu_fusion_pass.cc:508] ROCm Fusion is enabled.\n",
      "2025-02-20 22:56:03.816672: I tensorflow/core/common_runtime/gpu_fusion_pass.cc:508] ROCm Fusion is enabled.\n",
      "2025-02-20 22:56:03.820307: I tensorflow/core/common_runtime/gpu_fusion_pass.cc:508] ROCm Fusion is enabled.\n"
     ]
    },
    {
     "name": "stdout",
     "output_type": "stream",
     "text": [
      "Epoch 3/10\n",
      "1688/1688 [==============================] - 4s 2ms/step - loss: 0.0835 - accuracy: 0.9749 - val_loss: 0.0767 - val_accuracy: 0.9777\n",
      "Epoch 4/10\n"
     ]
    },
    {
     "name": "stderr",
     "output_type": "stream",
     "text": [
      "2025-02-20 22:56:07.746210: I tensorflow/core/common_runtime/gpu_fusion_pass.cc:508] ROCm Fusion is enabled.\n",
      "2025-02-20 22:56:07.751163: I tensorflow/core/common_runtime/gpu_fusion_pass.cc:508] ROCm Fusion is enabled.\n",
      "2025-02-20 22:56:07.754804: I tensorflow/core/common_runtime/gpu_fusion_pass.cc:508] ROCm Fusion is enabled.\n"
     ]
    },
    {
     "name": "stdout",
     "output_type": "stream",
     "text": [
      "1668/1688 [============================>.] - ETA: 0s - loss: 0.0620 - accuracy: 0.9815"
     ]
    },
    {
     "name": "stderr",
     "output_type": "stream",
     "text": [
      "2025-02-20 22:56:11.659069: I tensorflow/core/common_runtime/gpu_fusion_pass.cc:508] ROCm Fusion is enabled.\n",
      "2025-02-20 22:56:11.663820: I tensorflow/core/common_runtime/gpu_fusion_pass.cc:508] ROCm Fusion is enabled.\n",
      "2025-02-20 22:56:11.667551: I tensorflow/core/common_runtime/gpu_fusion_pass.cc:508] ROCm Fusion is enabled.\n"
     ]
    },
    {
     "name": "stdout",
     "output_type": "stream",
     "text": [
      "1688/1688 [==============================] - 4s 2ms/step - loss: 0.0622 - accuracy: 0.9814 - val_loss: 0.0717 - val_accuracy: 0.9777\n",
      "Epoch 5/10\n",
      "1683/1688 [============================>.] - ETA: 0s - loss: 0.0476 - accuracy: 0.9853"
     ]
    },
    {
     "name": "stderr",
     "output_type": "stream",
     "text": [
      "2025-02-20 22:56:15.610783: I tensorflow/core/common_runtime/gpu_fusion_pass.cc:508] ROCm Fusion is enabled.\n",
      "2025-02-20 22:56:15.615647: I tensorflow/core/common_runtime/gpu_fusion_pass.cc:508] ROCm Fusion is enabled.\n",
      "2025-02-20 22:56:15.620101: I tensorflow/core/common_runtime/gpu_fusion_pass.cc:508] ROCm Fusion is enabled.\n"
     ]
    },
    {
     "name": "stdout",
     "output_type": "stream",
     "text": [
      "1688/1688 [==============================] - 4s 2ms/step - loss: 0.0475 - accuracy: 0.9853 - val_loss: 0.0880 - val_accuracy: 0.9750\n",
      "Epoch 6/10\n",
      "1688/1688 [==============================] - 4s 2ms/step - loss: 0.0381 - accuracy: 0.9880 - val_loss: 0.0718 - val_accuracy: 0.9787\n"
     ]
    },
    {
     "name": "stderr",
     "output_type": "stream",
     "text": [
      "2025-02-20 22:56:19.587476: I tensorflow/core/common_runtime/gpu_fusion_pass.cc:508] ROCm Fusion is enabled.\n",
      "2025-02-20 22:56:19.592121: I tensorflow/core/common_runtime/gpu_fusion_pass.cc:508] ROCm Fusion is enabled.\n",
      "2025-02-20 22:56:19.595731: I tensorflow/core/common_runtime/gpu_fusion_pass.cc:508] ROCm Fusion is enabled.\n"
     ]
    },
    {
     "name": "stdout",
     "output_type": "stream",
     "text": [
      "Epoch 7/10\n",
      "1688/1688 [==============================] - 4s 2ms/step - loss: 0.0291 - accuracy: 0.9911 - val_loss: 0.0771 - val_accuracy: 0.9790\n",
      "Epoch 8/10\n"
     ]
    },
    {
     "name": "stderr",
     "output_type": "stream",
     "text": [
      "2025-02-20 22:56:23.554895: I tensorflow/core/common_runtime/gpu_fusion_pass.cc:508] ROCm Fusion is enabled.\n",
      "2025-02-20 22:56:23.559611: I tensorflow/core/common_runtime/gpu_fusion_pass.cc:508] ROCm Fusion is enabled.\n",
      "2025-02-20 22:56:23.563236: I tensorflow/core/common_runtime/gpu_fusion_pass.cc:508] ROCm Fusion is enabled.\n"
     ]
    },
    {
     "name": "stdout",
     "output_type": "stream",
     "text": [
      "1688/1688 [==============================] - 4s 2ms/step - loss: 0.0240 - accuracy: 0.9929 - val_loss: 0.0804 - val_accuracy: 0.9802\n",
      "Epoch 9/10\n",
      "   1/1688 [..............................] - ETA: 6s - loss: 0.0059 - accuracy: 1.0000"
     ]
    },
    {
     "name": "stderr",
     "output_type": "stream",
     "text": [
      "2025-02-20 22:56:27.508786: I tensorflow/core/common_runtime/gpu_fusion_pass.cc:508] ROCm Fusion is enabled.\n",
      "2025-02-20 22:56:27.513531: I tensorflow/core/common_runtime/gpu_fusion_pass.cc:508] ROCm Fusion is enabled.\n",
      "2025-02-20 22:56:27.517278: I tensorflow/core/common_runtime/gpu_fusion_pass.cc:508] ROCm Fusion is enabled.\n"
     ]
    },
    {
     "name": "stdout",
     "output_type": "stream",
     "text": [
      "1688/1688 [==============================] - 4s 2ms/step - loss: 0.0206 - accuracy: 0.9938 - val_loss: 0.0784 - val_accuracy: 0.9803\n"
     ]
    },
    {
     "name": "stderr",
     "output_type": "stream",
     "text": [
      "2025-02-20 22:56:31.534854: I tensorflow/core/common_runtime/gpu_fusion_pass.cc:508] ROCm Fusion is enabled.\n",
      "2025-02-20 22:56:31.540128: I tensorflow/core/common_runtime/gpu_fusion_pass.cc:508] ROCm Fusion is enabled.\n",
      "2025-02-20 22:56:31.543757: I tensorflow/core/common_runtime/gpu_fusion_pass.cc:508] ROCm Fusion is enabled.\n"
     ]
    },
    {
     "name": "stdout",
     "output_type": "stream",
     "text": [
      "Epoch 10/10\n",
      "1674/1688 [============================>.] - ETA: 0s - loss: 0.0151 - accuracy: 0.9957"
     ]
    },
    {
     "name": "stderr",
     "output_type": "stream",
     "text": [
      "2025-02-20 22:56:35.452259: I tensorflow/core/common_runtime/gpu_fusion_pass.cc:508] ROCm Fusion is enabled.\n",
      "2025-02-20 22:56:35.457012: I tensorflow/core/common_runtime/gpu_fusion_pass.cc:508] ROCm Fusion is enabled.\n",
      "2025-02-20 22:56:35.460674: I tensorflow/core/common_runtime/gpu_fusion_pass.cc:508] ROCm Fusion is enabled.\n"
     ]
    },
    {
     "name": "stdout",
     "output_type": "stream",
     "text": [
      "1688/1688 [==============================] - 4s 2ms/step - loss: 0.0150 - accuracy: 0.9958 - val_loss: 0.0884 - val_accuracy: 0.9782\n",
      "104/313 [========>.....................] - ETA: 0s"
     ]
    },
    {
     "name": "stderr",
     "output_type": "stream",
     "text": [
      "2025-02-20 22:56:35.917690: I tensorflow/core/common_runtime/gpu_fusion_pass.cc:508] ROCm Fusion is enabled.\n",
      "2025-02-20 22:56:35.932130: I tensorflow/core/common_runtime/gpu_fusion_pass.cc:508] ROCm Fusion is enabled.\n",
      "2025-02-20 22:56:35.944116: I tensorflow/core/common_runtime/gpu_fusion_pass.cc:508] ROCm Fusion is enabled.\n",
      "2025-02-20 22:56:35.955689: I tensorflow/core/common_runtime/gpu_fusion_pass.cc:508] ROCm Fusion is enabled.\n",
      "2025-02-20 22:56:35.961429: I tensorflow/core/common_runtime/gpu_fusion_pass.cc:508] ROCm Fusion is enabled.\n",
      "2025-02-20 22:56:35.964931: I tensorflow/core/common_runtime/gpu_fusion_pass.cc:508] ROCm Fusion is enabled.\n",
      "2025-02-20 22:56:35.993260: I tensorflow/core/common_runtime/gpu_fusion_pass.cc:508] ROCm Fusion is enabled.\n"
     ]
    },
    {
     "name": "stdout",
     "output_type": "stream",
     "text": [
      "313/313 [==============================] - 0s 1ms/step\n",
      "Epoch 1/10\n"
     ]
    },
    {
     "name": "stderr",
     "output_type": "stream",
     "text": [
      "2025-02-20 22:56:37.400994: I tensorflow/core/common_runtime/gpu_fusion_pass.cc:508] ROCm Fusion is enabled.\n",
      "2025-02-20 22:56:37.416646: I tensorflow/core/common_runtime/gpu_fusion_pass.cc:508] ROCm Fusion is enabled.\n",
      "2025-02-20 22:56:37.433236: I tensorflow/core/common_runtime/gpu_fusion_pass.cc:508] ROCm Fusion is enabled.\n",
      "2025-02-20 22:56:37.455460: I tensorflow/core/common_runtime/gpu_fusion_pass.cc:508] ROCm Fusion is enabled.\n",
      "2025-02-20 22:56:37.460638: I tensorflow/core/common_runtime/gpu_fusion_pass.cc:508] ROCm Fusion is enabled.\n",
      "2025-02-20 22:56:37.464279: I tensorflow/core/common_runtime/gpu_fusion_pass.cc:508] ROCm Fusion is enabled.\n"
     ]
    },
    {
     "name": "stdout",
     "output_type": "stream",
     "text": [
      "   5/1875 [..............................] - ETA: 57s - loss: 2.2592 - accuracy: 0.2250    "
     ]
    },
    {
     "name": "stderr",
     "output_type": "stream",
     "text": [
      "2025-02-20 22:56:38.114944: I tensorflow/core/common_runtime/gpu_fusion_pass.cc:508] ROCm Fusion is enabled.\n"
     ]
    },
    {
     "name": "stdout",
     "output_type": "stream",
     "text": [
      "1875/1875 [==============================] - 31s 16ms/step - loss: 0.1169 - accuracy: 0.9646\n",
      "Epoch 2/10\n",
      "1875/1875 [==============================] - 30s 16ms/step - loss: 0.0438 - accuracy: 0.9866\n",
      "Epoch 3/10\n",
      "1875/1875 [==============================] - 30s 16ms/step - loss: 0.0330 - accuracy: 0.9893\n",
      "Epoch 4/10\n",
      "1875/1875 [==============================] - 30s 16ms/step - loss: 0.0264 - accuracy: 0.9913\n",
      "Epoch 5/10\n",
      "1875/1875 [==============================] - 30s 16ms/step - loss: 0.0204 - accuracy: 0.9934\n",
      "Epoch 6/10\n",
      "1875/1875 [==============================] - 30s 16ms/step - loss: 0.0169 - accuracy: 0.9945\n",
      "Epoch 7/10\n",
      "1875/1875 [==============================] - 30s 16ms/step - loss: 0.0143 - accuracy: 0.9952\n",
      "Epoch 8/10\n",
      "1875/1875 [==============================] - 30s 16ms/step - loss: 0.0124 - accuracy: 0.9961\n",
      "Epoch 9/10\n",
      "1875/1875 [==============================] - 30s 16ms/step - loss: 0.0106 - accuracy: 0.9964\n",
      "Epoch 10/10\n",
      "1875/1875 [==============================] - 30s 16ms/step - loss: 0.0112 - accuracy: 0.9965\n",
      " 24/313 [=>............................] - ETA: 1s"
     ]
    },
    {
     "name": "stderr",
     "output_type": "stream",
     "text": [
      "2025-02-20 23:01:38.043118: I tensorflow/core/common_runtime/gpu_fusion_pass.cc:508] ROCm Fusion is enabled.\n",
      "2025-02-20 23:01:38.056166: I tensorflow/core/common_runtime/gpu_fusion_pass.cc:508] ROCm Fusion is enabled.\n",
      "2025-02-20 23:01:38.064142: I tensorflow/core/common_runtime/gpu_fusion_pass.cc:508] ROCm Fusion is enabled.\n",
      "2025-02-20 23:01:38.072999: I tensorflow/core/common_runtime/gpu_fusion_pass.cc:508] ROCm Fusion is enabled.\n",
      "2025-02-20 23:01:38.078354: I tensorflow/core/common_runtime/gpu_fusion_pass.cc:508] ROCm Fusion is enabled.\n",
      "2025-02-20 23:01:38.081518: I tensorflow/core/common_runtime/gpu_fusion_pass.cc:508] ROCm Fusion is enabled.\n",
      "2025-02-20 23:01:38.120535: I tensorflow/core/common_runtime/gpu_fusion_pass.cc:508] ROCm Fusion is enabled.\n"
     ]
    },
    {
     "name": "stdout",
     "output_type": "stream",
     "text": [
      "313/313 [==============================] - 1s 4ms/step\n",
      "\n",
      "Random Forest Accuracy on MNIST: 0.9704\n",
      "Feed Forward Neural Network Accuracy on MNIST: 0.9766\n",
      "Convolutional Neural Network on MNIST: 0.9896\n"
     ]
    }
   ],
   "source": [
    "# check models\n",
    "\n",
    "from tensorflow.keras.datasets import mnist\n",
    "from sklearn.metrics import accuracy_score\n",
    "\n",
    "(X_train, y_train), (X_test, y_test) = mnist.load_data()\n",
    "X_train, X_test = X_train / 255.0, X_test / 255.0\n",
    "\n",
    "mnist_rf = MnistClassifier(algorithm=\"rf\")\n",
    "mnist_rf.train(X_train, y_train)\n",
    "y_pred_rf = mnist_rf.predict(X_test)\n",
    "accuracy_rf = accuracy_score(y_test, y_pred_rf)\n",
    "\n",
    "mnist_nn = MnistClassifier(algorithm=\"nn\")\n",
    "mnist_nn.train(X_train, y_train)\n",
    "y_pred_nn = mnist_nn.predict(X_test)\n",
    "accuracy_nn = accuracy_score(y_test, y_pred_nn)\n",
    "\n",
    "mnist_cnn = MnistClassifier(algorithm=\"cnn\")\n",
    "mnist_cnn.train(X_train, y_train)\n",
    "y_pred_cnn = mnist_cnn.predict(X_test)\n",
    "accuracy_cnn = accuracy_score(y_test, y_pred_cnn)\n",
    "\n",
    "print()\n",
    "print(f\"Random Forest Accuracy on MNIST: {accuracy_rf:.4f}\")\n",
    "print(f\"Feed Forward Neural Network Accuracy on MNIST: {accuracy_nn:.4f}\")\n",
    "print(f\"Convolutional Neural Network on MNIST: {accuracy_cnn:.4f}\")"
   ]
  },
  {
   "cell_type": "code",
   "execution_count": 126,
   "id": "91f6151c",
   "metadata": {},
   "outputs": [
    {
     "name": "stdout",
     "output_type": "stream",
     "text": [
      "150/313 [=============>................] - ETA: 0s"
     ]
    },
    {
     "name": "stderr",
     "output_type": "stream",
     "text": [
      "2025-02-20 23:01:40.045882: I tensorflow/core/common_runtime/gpu_fusion_pass.cc:508] ROCm Fusion is enabled.\n",
      "2025-02-20 23:01:40.057260: I tensorflow/core/common_runtime/gpu_fusion_pass.cc:508] ROCm Fusion is enabled.\n",
      "2025-02-20 23:01:40.064055: I tensorflow/core/common_runtime/gpu_fusion_pass.cc:508] ROCm Fusion is enabled.\n",
      "2025-02-20 23:01:40.070294: I tensorflow/core/common_runtime/gpu_fusion_pass.cc:508] ROCm Fusion is enabled.\n",
      "2025-02-20 23:01:40.075693: I tensorflow/core/common_runtime/gpu_fusion_pass.cc:508] ROCm Fusion is enabled.\n",
      "2025-02-20 23:01:40.078933: I tensorflow/core/common_runtime/gpu_fusion_pass.cc:508] ROCm Fusion is enabled.\n"
     ]
    },
    {
     "name": "stdout",
     "output_type": "stream",
     "text": [
      "313/313 [==============================] - 0s 1ms/step\n",
      " 24/313 [=>............................] - ETA: 1s"
     ]
    },
    {
     "name": "stderr",
     "output_type": "stream",
     "text": [
      "2025-02-20 23:01:40.578611: I tensorflow/core/common_runtime/gpu_fusion_pass.cc:508] ROCm Fusion is enabled.\n",
      "2025-02-20 23:01:40.591531: I tensorflow/core/common_runtime/gpu_fusion_pass.cc:508] ROCm Fusion is enabled.\n",
      "2025-02-20 23:01:40.598487: I tensorflow/core/common_runtime/gpu_fusion_pass.cc:508] ROCm Fusion is enabled.\n",
      "2025-02-20 23:01:40.607130: I tensorflow/core/common_runtime/gpu_fusion_pass.cc:508] ROCm Fusion is enabled.\n",
      "2025-02-20 23:01:40.612133: I tensorflow/core/common_runtime/gpu_fusion_pass.cc:508] ROCm Fusion is enabled.\n",
      "2025-02-20 23:01:40.615335: I tensorflow/core/common_runtime/gpu_fusion_pass.cc:508] ROCm Fusion is enabled.\n"
     ]
    },
    {
     "name": "stdout",
     "output_type": "stream",
     "text": [
      "313/313 [==============================] - 1s 4ms/step\n",
      "\n",
      "Random Forest Accuracy on noisy MNIST: 0.5717\n",
      "Feed Forward Neural Network Accuracy on noisy MNIST: 0.6472\n",
      "Convolutional Neural Network on noisy MNIST: 0.9129\n"
     ]
    }
   ],
   "source": [
    "# check with noisy data\n",
    "\n",
    "def add_noise(images, noise_level=0.3):\n",
    "    noise = np.random.normal(0, noise_level, images.shape)\n",
    "    noisy_images = np.clip(images + noise, 0, 1)\n",
    "    return noisy_images\n",
    "\n",
    "X_test_noisy = add_noise(X_test)\n",
    "\n",
    "# predict on noisy data\n",
    "y_pred_noisy = mnist_rf.predict(X_test_noisy)\n",
    "accuracy_rf_dist = accuracy_score(y_test, y_pred_noisy)\n",
    "\n",
    "y_pred_noisy = mnist_nn.predict(X_test_noisy)\n",
    "accuracy_nn_dist = accuracy_score(y_test, y_pred_noisy)\n",
    "\n",
    "y_pred_noisy = mnist_cnn.predict(X_test_noisy)\n",
    "accuracy_cnn_dist = accuracy_score(y_test, y_pred_noisy)\n",
    "\n",
    "print()\n",
    "print(f\"Random Forest Accuracy on noisy MNIST: {accuracy_rf_dist:.4f}\")\n",
    "print(f\"Feed Forward Neural Network Accuracy on noisy MNIST: {accuracy_nn_dist:.4f}\")\n",
    "print(f\"Convolutional Neural Network on noisy MNIST: {accuracy_cnn_dist:.4f}\")"
   ]
  },
  {
   "cell_type": "code",
   "execution_count": 127,
   "id": "a61809a5",
   "metadata": {},
   "outputs": [
    {
     "name": "stdout",
     "output_type": "stream",
     "text": [
      "Testing on inverted images:\n",
      "151/313 [=============>................] - ETA: 0s"
     ]
    },
    {
     "name": "stderr",
     "output_type": "stream",
     "text": [
      "2025-02-20 23:01:42.241664: I tensorflow/core/common_runtime/gpu_fusion_pass.cc:508] ROCm Fusion is enabled.\n",
      "2025-02-20 23:01:42.254263: I tensorflow/core/common_runtime/gpu_fusion_pass.cc:508] ROCm Fusion is enabled.\n",
      "2025-02-20 23:01:42.262392: I tensorflow/core/common_runtime/gpu_fusion_pass.cc:508] ROCm Fusion is enabled.\n",
      "2025-02-20 23:01:42.271194: I tensorflow/core/common_runtime/gpu_fusion_pass.cc:508] ROCm Fusion is enabled.\n",
      "2025-02-20 23:01:42.277063: I tensorflow/core/common_runtime/gpu_fusion_pass.cc:508] ROCm Fusion is enabled.\n",
      "2025-02-20 23:01:42.280645: I tensorflow/core/common_runtime/gpu_fusion_pass.cc:508] ROCm Fusion is enabled.\n"
     ]
    },
    {
     "name": "stdout",
     "output_type": "stream",
     "text": [
      "313/313 [==============================] - 0s 1ms/step\n",
      " 41/313 [==>...........................] - ETA: 1s"
     ]
    },
    {
     "name": "stderr",
     "output_type": "stream",
     "text": [
      "2025-02-20 23:01:42.796540: I tensorflow/core/common_runtime/gpu_fusion_pass.cc:508] ROCm Fusion is enabled.\n",
      "2025-02-20 23:01:42.806396: I tensorflow/core/common_runtime/gpu_fusion_pass.cc:508] ROCm Fusion is enabled.\n",
      "2025-02-20 23:01:42.813007: I tensorflow/core/common_runtime/gpu_fusion_pass.cc:508] ROCm Fusion is enabled.\n",
      "2025-02-20 23:01:42.818924: I tensorflow/core/common_runtime/gpu_fusion_pass.cc:508] ROCm Fusion is enabled.\n",
      "2025-02-20 23:01:42.823875: I tensorflow/core/common_runtime/gpu_fusion_pass.cc:508] ROCm Fusion is enabled.\n",
      "2025-02-20 23:01:42.827024: I tensorflow/core/common_runtime/gpu_fusion_pass.cc:508] ROCm Fusion is enabled.\n"
     ]
    },
    {
     "name": "stdout",
     "output_type": "stream",
     "text": [
      "313/313 [==============================] - 1s 4ms/step\n",
      "\n",
      "Random Forest Accuracy on noisy MNIST: 0.0122\n",
      "Feed Forward Neural Network Accuracy on noisy MNIST: 0.0490\n",
      "Convolutional Neural Network on noisy MNIST: 0.4599\n"
     ]
    }
   ],
   "source": [
    "# test with inverted colors\n",
    "\n",
    "X_test_inverted = 1 - X_test\n",
    "\n",
    "print(\"Testing on inverted images:\")\n",
    "y_pred_in = mnist_rf.predict(X_test_inverted)\n",
    "accuracy_rf_inv = accuracy_score(y_test, y_pred_in)\n",
    "\n",
    "y_pred_in = mnist_nn.predict(X_test_inverted)\n",
    "accuracy_nn_inv = accuracy_score(y_test, y_pred_in)\n",
    "\n",
    "y_pred_in = mnist_cnn.predict(X_test_inverted)\n",
    "accuracy_cnn_inv = accuracy_score(y_test, y_pred_in)\n",
    "\n",
    "print()\n",
    "print(f\"Random Forest Accuracy on noisy MNIST: {accuracy_rf_inv:.4f}\")\n",
    "print(f\"Feed Forward Neural Network Accuracy on noisy MNIST: {accuracy_nn_inv:.4f}\")\n",
    "print(f\"Convolutional Neural Network on noisy MNIST: {accuracy_cnn_inv:.4f}\")"
   ]
  },
  {
   "cell_type": "code",
   "execution_count": 128,
   "id": "1007c6e0",
   "metadata": {},
   "outputs": [
    {
     "data": {
      "image/png": "[encoded data removed]",
      "text/plain": [
       "<Figure size 640x480 with 1 Axes>"
      ]
     },
     "metadata": {},
     "output_type": "display_data"
    },
    {
     "name": "stdout",
     "output_type": "stream",
     "text": [
      "With Random Forest -> predicted number: [8]\n",
      "1/1 [==============================] - 0s 15ms/step\n",
      "With Random Feed Forward Neural Network -> predicted number: [5]\n",
      "1/1 [==============================] - 0s 16ms/step\n",
      "With Convolutional Neural Network File -> predicted number: [9]\n"
     ]
    },
    {
     "name": "stderr",
     "output_type": "stream",
     "text": [
      "2025-02-20 23:01:44.354251: I tensorflow/core/common_runtime/gpu_fusion_pass.cc:508] ROCm Fusion is enabled.\n",
      "2025-02-20 23:01:44.367720: I tensorflow/core/common_runtime/gpu_fusion_pass.cc:508] ROCm Fusion is enabled.\n",
      "2025-02-20 23:01:44.383250: I tensorflow/core/common_runtime/gpu_fusion_pass.cc:508] ROCm Fusion is enabled.\n",
      "2025-02-20 23:01:44.398662: I tensorflow/core/common_runtime/gpu_fusion_pass.cc:508] ROCm Fusion is enabled.\n",
      "2025-02-20 23:01:44.403524: I tensorflow/core/common_runtime/gpu_fusion_pass.cc:508] ROCm Fusion is enabled.\n",
      "2025-02-20 23:01:44.406624: I tensorflow/core/common_runtime/gpu_fusion_pass.cc:508] ROCm Fusion is enabled.\n",
      "2025-02-20 23:01:44.419525: I tensorflow/core/common_runtime/gpu_fusion_pass.cc:508] ROCm Fusion is enabled.\n",
      "2025-02-20 23:01:44.436415: I tensorflow/core/common_runtime/gpu_fusion_pass.cc:508] ROCm Fusion is enabled.\n",
      "2025-02-20 23:01:44.444536: I tensorflow/core/common_runtime/gpu_fusion_pass.cc:508] ROCm Fusion is enabled.\n",
      "2025-02-20 23:01:44.450632: I tensorflow/core/common_runtime/gpu_fusion_pass.cc:508] ROCm Fusion is enabled.\n",
      "2025-02-20 23:01:44.455248: I tensorflow/core/common_runtime/gpu_fusion_pass.cc:508] ROCm Fusion is enabled.\n",
      "2025-02-20 23:01:44.458277: I tensorflow/core/common_runtime/gpu_fusion_pass.cc:508] ROCm Fusion is enabled.\n"
     ]
    },
    {
     "data": {
      "image/png": "[encoded data removed]",
      "text/plain": [
       "<Figure size 640x480 with 1 Axes>"
      ]
     },
     "metadata": {},
     "output_type": "display_data"
    },
    {
     "name": "stdout",
     "output_type": "stream",
     "text": [
      "With Random Forest -> predicted number: [6]\n",
      "1/1 [==============================] - 0s 17ms/step\n",
      "With Random Feed Forward Neural Network -> predicted number: [5]\n",
      "1/1 [==============================] - 0s 17ms/step\n",
      "With Convolutional Neural Network File -> predicted number: [5]\n"
     ]
    },
    {
     "name": "stderr",
     "output_type": "stream",
     "text": [
      "2025-02-20 23:01:44.581720: I tensorflow/core/common_runtime/gpu_fusion_pass.cc:508] ROCm Fusion is enabled.\n",
      "2025-02-20 23:01:44.595437: I tensorflow/core/common_runtime/gpu_fusion_pass.cc:508] ROCm Fusion is enabled.\n",
      "2025-02-20 23:01:44.603628: I tensorflow/core/common_runtime/gpu_fusion_pass.cc:508] ROCm Fusion is enabled.\n",
      "2025-02-20 23:01:44.609548: I tensorflow/core/common_runtime/gpu_fusion_pass.cc:508] ROCm Fusion is enabled.\n",
      "2025-02-20 23:01:44.614390: I tensorflow/core/common_runtime/gpu_fusion_pass.cc:508] ROCm Fusion is enabled.\n",
      "2025-02-20 23:01:44.618744: I tensorflow/core/common_runtime/gpu_fusion_pass.cc:508] ROCm Fusion is enabled.\n",
      "2025-02-20 23:01:44.633996: I tensorflow/core/common_runtime/gpu_fusion_pass.cc:508] ROCm Fusion is enabled.\n",
      "2025-02-20 23:01:44.648134: I tensorflow/core/common_runtime/gpu_fusion_pass.cc:508] ROCm Fusion is enabled.\n",
      "2025-02-20 23:01:44.655614: I tensorflow/core/common_runtime/gpu_fusion_pass.cc:508] ROCm Fusion is enabled.\n",
      "2025-02-20 23:01:44.661751: I tensorflow/core/common_runtime/gpu_fusion_pass.cc:508] ROCm Fusion is enabled.\n",
      "2025-02-20 23:01:44.666291: I tensorflow/core/common_runtime/gpu_fusion_pass.cc:508] ROCm Fusion is enabled.\n",
      "2025-02-20 23:01:44.670355: I tensorflow/core/common_runtime/gpu_fusion_pass.cc:508] ROCm Fusion is enabled.\n"
     ]
    },
    {
     "data": {
      "image/png": "[encoded data removed]",
      "text/plain": [
       "<Figure size 640x480 with 1 Axes>"
      ]
     },
     "metadata": {},
     "output_type": "display_data"
    },
    {
     "name": "stdout",
     "output_type": "stream",
     "text": [
      "With Random Forest -> predicted number: [8]\n",
      "1/1 [==============================] - 0s 15ms/step\n",
      "With Random Feed Forward Neural Network -> predicted number: [5]\n",
      "1/1 [==============================] - 0s 16ms/step\n",
      "With Convolutional Neural Network File -> predicted number: [9]\n"
     ]
    },
    {
     "name": "stderr",
     "output_type": "stream",
     "text": [
      "2025-02-20 23:01:44.789068: I tensorflow/core/common_runtime/gpu_fusion_pass.cc:508] ROCm Fusion is enabled.\n",
      "2025-02-20 23:01:44.804432: I tensorflow/core/common_runtime/gpu_fusion_pass.cc:508] ROCm Fusion is enabled.\n",
      "2025-02-20 23:01:44.812799: I tensorflow/core/common_runtime/gpu_fusion_pass.cc:508] ROCm Fusion is enabled.\n",
      "2025-02-20 23:01:44.819391: I tensorflow/core/common_runtime/gpu_fusion_pass.cc:508] ROCm Fusion is enabled.\n",
      "2025-02-20 23:01:44.824045: I tensorflow/core/common_runtime/gpu_fusion_pass.cc:508] ROCm Fusion is enabled.\n",
      "2025-02-20 23:01:44.827187: I tensorflow/core/common_runtime/gpu_fusion_pass.cc:508] ROCm Fusion is enabled.\n",
      "2025-02-20 23:01:44.839151: I tensorflow/core/common_runtime/gpu_fusion_pass.cc:508] ROCm Fusion is enabled.\n",
      "2025-02-20 23:01:44.863852: I tensorflow/core/common_runtime/gpu_fusion_pass.cc:508] ROCm Fusion is enabled.\n",
      "2025-02-20 23:01:44.871096: I tensorflow/core/common_runtime/gpu_fusion_pass.cc:508] ROCm Fusion is enabled.\n",
      "2025-02-20 23:01:44.876444: I tensorflow/core/common_runtime/gpu_fusion_pass.cc:508] ROCm Fusion is enabled.\n",
      "2025-02-20 23:01:44.881182: I tensorflow/core/common_runtime/gpu_fusion_pass.cc:508] ROCm Fusion is enabled.\n",
      "2025-02-20 23:01:44.884174: I tensorflow/core/common_runtime/gpu_fusion_pass.cc:508] ROCm Fusion is enabled.\n"
     ]
    }
   ],
   "source": [
    "import numpy as np\n",
    "from PIL import Image\n",
    "import matplotlib.pyplot as plt\n",
    "\n",
    "def preprocess_image(image_path):\n",
    "    img = Image.open(image_path).convert(\"L\")\n",
    "    img = img.resize((28, 28))\n",
    "    img = np.array(img)\n",
    "    img = 255 - img\n",
    "    \n",
    "    plt.imshow(img, cmap=\"gray\")\n",
    "    plt.title(\"Processed Image\")\n",
    "    plt.show()\n",
    "    \n",
    "    img = img.astype('float32') / 255.0\n",
    "    img = img.reshape(1, 28, 28, 1)\n",
    "    \n",
    "    return img\n",
    "\n",
    "\n",
    "def predict_images_from_folder(folder_path):\n",
    "    image_files = [f for f in os.listdir(folder_path) if f.endswith((\".png\", \".jpg\", \".jpeg\"))]\n",
    "    \n",
    "    for image_file in image_files:\n",
    "        image_path = os.path.join(folder_path, image_file)\n",
    "        \n",
    "        img=preprocess_image(image_path)\n",
    "        \n",
    "        predicted_digit = mnist_rf.predict(img)\n",
    "        print(f\"With Random Forest -> predicted number: {predicted_digit}\")\n",
    "        \n",
    "        predicted_digit = mnist_nn.predict(img)\n",
    "        print(f\"With Random Feed Forward Neural Network -> predicted number: {predicted_digit}\")\n",
    "        \n",
    "        predicted_digit = mnist_cnn.predict(img)\n",
    "        print(f\"With Convolutional Neural Network File -> predicted number: {predicted_digit}\")\n",
    "        \n",
    "folder_path = \"test-numbers\"\n",
    "predict_images_from_folder(folder_path)\n",
    "\n",
    "# [mnist_rf, mnist_nn, mnist_cnn], \n",
    "\n"
   ]
  },
  {
   "cell_type": "code",
   "execution_count": 71,
   "id": "053742c9",
   "metadata": {},
   "outputs": [],
   "source": []
  },
  {
   "cell_type": "code",
   "execution_count": null,
   "id": "19e16091",
   "metadata": {},
   "outputs": [],
   "source": []
  }
 ],
 "metadata": {
  "kernelspec": {
   "display_name": "Python 3 (ipykernel)",
   "language": "python",
   "name": "python3"
  },
  "language_info": {
   "codemirror_mode": {
    "name": "ipython",
    "version": 3
   },
   "file_extension": ".py",
   "mimetype": "text/x-python",
   "name": "python",
   "nbconvert_exporter": "python",
   "pygments_lexer": "ipython3",
   "version": "3.11.2"
  }
 },
 "nbformat": 4,
 "nbformat_minor": 5
}
